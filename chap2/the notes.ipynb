{
 "cells": [
  {
   "cell_type": "code",
   "execution_count": null,
   "id": "419b94a7-b4f1-4ca8-b7ee-047f739f17f1",
   "metadata": {
    "tags": []
   },
   "outputs": [],
   "source": [
    "import knn "
   ]
  },
  {
   "cell_type": "code",
   "execution_count": null,
   "id": "b7988bdf-84f9-40a4-88a5-0c2f06eca826",
   "metadata": {},
   "outputs": [],
   "source": [
    "import matplotlib"
   ]
  },
  {
   "cell_type": "code",
   "execution_count": null,
   "id": "d5ab9ed8-219e-4e80-8ebb-c7e4e2746e45",
   "metadata": {},
   "outputs": [],
   "source": [
    "import matplotlib.pyplot as plt"
   ]
  },
  {
   "cell_type": "code",
   "execution_count": null,
   "id": "17693542-8b4f-41d9-af54-71ccc66c894a",
   "metadata": {},
   "outputs": [],
   "source": [
    "%matplotlib notebook"
   ]
  },
  {
   "cell_type": "code",
   "execution_count": null,
   "id": "22e23632-0469-4aff-a7c0-876db0fb86fe",
   "metadata": {},
   "outputs": [],
   "source": [
    "mat,matl = knn.file2matrix(\"datingTestSet2.txt\")"
   ]
  },
  {
   "cell_type": "code",
   "execution_count": null,
   "id": "83442111-cd61-40ee-b787-7ea092f212b1",
   "metadata": {
    "tags": []
   },
   "outputs": [],
   "source": [
    "fit = plt.figure()"
   ]
  },
  {
   "cell_type": "code",
   "execution_count": null,
   "id": "1e03af08-75be-4976-bef8-de6850700fd5",
   "metadata": {
    "tags": []
   },
   "outputs": [],
   "source": [
    "ax = fit.add_subplot(111)"
   ]
  },
  {
   "cell_type": "code",
   "execution_count": null,
   "id": "00b84841-1841-4dcf-94bd-f13bc31e7c5f",
   "metadata": {},
   "outputs": [],
   "source": [
    "ax.scatter(mat[:,1],mat[:,2])"
   ]
  },
  {
   "cell_type": "code",
   "execution_count": null,
   "id": "1950a43c-9055-4755-9001-85d4a9ac8efe",
   "metadata": {},
   "outputs": [],
   "source": [
    "plt.show()"
   ]
  },
  {
   "cell_type": "code",
   "execution_count": null,
   "id": "2a0a6927-d9b6-46ca-8ac4-058175e56740",
   "metadata": {},
   "outputs": [],
   "source": [
    "knn.datingClassTest()"
   ]
  },
  {
   "cell_type": "code",
   "execution_count": null,
   "id": "79581a7f-f244-483d-b74b-baaa407599ed",
   "metadata": {},
   "outputs": [],
   "source": [
    "knn.classifyPerson()"
   ]
  },
  {
   "cell_type": "code",
   "execution_count": null,
   "id": "ff903f1d-cdef-4a96-8375-d8807bed54dd",
   "metadata": {},
   "outputs": [],
   "source": [
    "testVector = knn.img2vector('testDigits/0_13.txt')\n",
    "testVector[0,0:31]"
   ]
  },
  {
   "cell_type": "code",
   "execution_count": null,
   "id": "4b7faee8-6ada-482c-ba60-6863d504ed81",
   "metadata": {},
   "outputs": [],
   "source": [
    "testVector[0,32:63]"
   ]
  },
  {
   "cell_type": "code",
   "execution_count": null,
   "id": "41fa595a-414f-482c-82f4-eab845676d1b",
   "metadata": {},
   "outputs": [],
   "source": [
    "knn.handwritingClassTest()"
   ]
  },
  {
   "cell_type": "code",
   "execution_count": null,
   "id": "b624f0c5-094e-44aa-81a4-8071c4a63895",
   "metadata": {},
   "outputs": [],
   "source": []
  }
 ],
 "metadata": {
  "kernelspec": {
   "display_name": "Python 3",
   "language": "python",
   "name": "python3"
  },
  "language_info": {
   "codemirror_mode": {
    "name": "ipython",
    "version": 3
   },
   "file_extension": ".py",
   "mimetype": "text/x-python",
   "name": "python",
   "nbconvert_exporter": "python",
   "pygments_lexer": "ipython3",
   "version": "3.7.8"
  }
 },
 "nbformat": 4,
 "nbformat_minor": 5
}
