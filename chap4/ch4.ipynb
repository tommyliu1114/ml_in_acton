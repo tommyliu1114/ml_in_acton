{
 "cells": [
  {
   "cell_type": "code",
   "execution_count": 1,
   "id": "6e0791f7-9ed0-4ea0-9712-1c7bb6bb2fec",
   "metadata": {},
   "outputs": [
    {
     "data": {
      "text/plain": [
       "['ate',\n",
       " 'flea',\n",
       " 'food',\n",
       " 'I',\n",
       " 'problems',\n",
       " 'mr',\n",
       " 'how',\n",
       " 'stop',\n",
       " 'dog',\n",
       " 'help',\n",
       " 'maybe',\n",
       " 'so',\n",
       " 'buying',\n",
       " 'posting',\n",
       " 'take',\n",
       " 'not',\n",
       " 'is',\n",
       " 'love',\n",
       " 'licks',\n",
       " 'quit',\n",
       " 'stupid',\n",
       " 'steak',\n",
       " 'dalmation',\n",
       " 'him',\n",
       " 'has',\n",
       " 'park',\n",
       " 'to',\n",
       " 'cute',\n",
       " 'worthless',\n",
       " 'please',\n",
       " 'garbage',\n",
       " 'my']"
      ]
     },
     "execution_count": 1,
     "metadata": {},
     "output_type": "execute_result"
    }
   ],
   "source": [
    "import bayes\n",
    "listOPosts,listClasses = bayes.loadDataSet()\n",
    "myVocabList = bayes.createVocabList(listOPosts)\n",
    "myVocabList"
   ]
  },
  {
   "cell_type": "code",
   "execution_count": null,
   "id": "bc918b58-e098-4afa-9ebd-299a3581e936",
   "metadata": {},
   "outputs": [],
   "source": [
    "bayes.setOfWords2Vec(myVocabList,listOPosts[0"
   ]
  }
 ],
 "metadata": {
  "kernelspec": {
   "display_name": "Python 3",
   "language": "python",
   "name": "python3"
  },
  "language_info": {
   "codemirror_mode": {
    "name": "ipython",
    "version": 3
   },
   "file_extension": ".py",
   "mimetype": "text/x-python",
   "name": "python",
   "nbconvert_exporter": "python",
   "pygments_lexer": "ipython3",
   "version": "3.7.8"
  }
 },
 "nbformat": 4,
 "nbformat_minor": 5
}
